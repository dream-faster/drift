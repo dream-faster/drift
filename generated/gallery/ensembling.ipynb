{
  "cells": [
    {
      "cell_type": "code",
      "execution_count": null,
      "metadata": {
        "collapsed": false
      },
      "outputs": [],
      "source": [
        "%matplotlib inline"
      ]
    },
    {
      "cell_type": "markdown",
      "metadata": {},
      "source": [
        "\nEnsembling (Composite Models)\n===========================\n"
      ]
    },
    {
      "cell_type": "code",
      "execution_count": null,
      "metadata": {
        "collapsed": false
      },
      "outputs": [],
      "source": [
        "from statsforecast.models import ARIMA\nfrom xgboost import XGBRegressor\n\nfrom fold.composites import Concat, Ensemble\nfrom fold.loop import train_evaluate\n\n# mkdocs_gallery_thumbnail_path = 'images/example_thumnail.png'\nfrom fold.models.wrappers import WrapStatsForecast\nfrom fold.splitters import ExpandingWindowSplitter\nfrom fold.transformations import AddLagsX, AddWindowFeatures, Difference\nfrom fold.utils.dataset import get_preprocessed_dataset\n\nX, y = get_preprocessed_dataset(\n    \"weather/historical_hourly_la\", target_col=\"temperature\", shorten=1000\n)\n\nsplitter = ExpandingWindowSplitter(initial_train_window=0.2, step=0.1)\npipeline_tabular = [\n    Difference(),\n    Concat(\n        [\n            AddWindowFeatures([(\"temperature\", 14, \"mean\")]),\n            AddLagsX(columns_and_lags=[(\"temperature\", list(range(1, 5)))]),\n        ]\n    ),\n    XGBRegressor(),\n]\npipeline_arima = WrapStatsForecast(ARIMA, {\"order\": (1, 1, 0)}, use_exogenous=False)\nensemble = Ensemble([pipeline_tabular, pipeline_arima])\n\nscorecard, prediction, trained_pipelines = train_evaluate(ensemble, X, y, splitter)"
      ]
    }
  ],
  "metadata": {
    "kernelspec": {
      "display_name": "Python 3",
      "language": "python",
      "name": "python3"
    },
    "language_info": {
      "codemirror_mode": {
        "name": "ipython",
        "version": 3
      },
      "file_extension": ".py",
      "mimetype": "text/x-python",
      "name": "python",
      "nbconvert_exporter": "python",
      "pygments_lexer": "ipython3",
      "version": "3.12.2"
    }
  },
  "nbformat": 4,
  "nbformat_minor": 0
}